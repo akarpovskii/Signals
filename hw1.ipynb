{
 "cells": [
  {
   "cell_type": "markdown",
   "metadata": {},
   "source": [
    "## Задача 1\n",
    "Напишите программу, которая спрашивает пользователя его вес, используя функцию input(),  и выводит при помощи функции print() на экран его вес на луне, если известно, что на луне все легче в 6 раз. Не забудьте, что функция int() может помочь вам преобразовать строку в число."
   ]
  },
  {
   "cell_type": "code",
   "execution_count": 1,
   "metadata": {},
   "outputs": [
    {
     "name": "stdout",
     "output_type": "stream",
     "text": [
      "Сколько вы весите?70\n",
      "На луне вы бы весили  11.666666666666666\n"
     ]
    }
   ],
   "source": [
    "a = int(input('Сколько вы весите? '))\n",
    "b = a / 6\n",
    "print('На луне вы бы весили', b)"
   ]
  },
  {
   "cell_type": "markdown",
   "metadata": {},
   "source": [
    "## Задача 2\n",
    "Напишите программу, которая принимает на вход 1 число и выводит 2 строки следующего содержания: <br>\n",
    "Введите любое число: 42 <br>\n",
    "После числа 42 идет число 43 <br>\n",
    "Перед числом 42 идет число 41 <br>"
   ]
  },
  {
   "cell_type": "code",
   "execution_count": 3,
   "metadata": {},
   "outputs": [
    {
     "name": "stdout",
     "output_type": "stream",
     "text": [
      "Введите любое число 42\n",
      "После числа 42 идет число 43\n",
      "Перед числом 42 идет число 41\n"
     ]
    }
   ],
   "source": [
    "a = int(input('Введите любое число: '))\n",
    "b = a + 1\n",
    "c = a - 1\n",
    "print('После числа', a, 'идет число', b)\n",
    "print('Перед числом', a, 'идет число', c)"
   ]
  },
  {
   "cell_type": "markdown",
   "metadata": {},
   "source": [
    "## Задача 3\n",
    "Напишите программу, которая принимает на вход 3 стороны треугольника и выводит его периметр."
   ]
  },
  {
   "cell_type": "code",
   "execution_count": 4,
   "metadata": {},
   "outputs": [
    {
     "name": "stdout",
     "output_type": "stream",
     "text": [
      "Введите сторону a 10\n",
      "Введите сторону b 20\n",
      "Введите сторону c 30\n",
      "Периметр треугольника равен 60\n"
     ]
    }
   ],
   "source": [
    "a = int(input('Введите сторону a: '))\n",
    "b = int(input('Введите сторону b: '))\n",
    "c = int(input('Введите сторону c: '))\n",
    "p = a + b + c\n",
    "print('Периметр треугольника равен', p)"
   ]
  },
  {
   "cell_type": "markdown",
   "metadata": {},
   "source": [
    "## Задача 4\n",
    "Напишите программу, которая принимает 2 стороны прямоугольника и выводит на экран его площадь."
   ]
  },
  {
   "cell_type": "code",
   "execution_count": 5,
   "metadata": {},
   "outputs": [
    {
     "name": "stdout",
     "output_type": "stream",
     "text": [
      "Введите сторону a 12\n",
      "Введите сторону b 5\n",
      "Площадь прямоугольника равна 60\n"
     ]
    }
   ],
   "source": [
    "a = int(input('Введите сторону a: '))\n",
    "b = int(input('Введите сторону b: '))\n",
    "s = a * b\n",
    "print('Площадь прямоугольника равна', s)"
   ]
  },
  {
   "cell_type": "markdown",
   "metadata": {},
   "source": [
    "## Задача 5*\n",
    "Напишите программу, которая поможет рассчитать необходимое количество бензина для преодоления заданного расстояния. Программа получает от пользователя на вход расход бензина на 100км и расстояние, которое необходимо проехать, и выводит на экран необходимое количество бензина в литрах. "
   ]
  },
  {
   "cell_type": "code",
   "execution_count": 6,
   "metadata": {},
   "outputs": [
    {
     "name": "stdout",
     "output_type": "stream",
     "text": [
      "Введите расход бензина на 100 км: 10\n",
      "Сколько километров вы хотите проехать? 80\n",
      "Вам потребуется 8.0 л бензина\n"
     ]
    }
   ],
   "source": [
    "b = int(input('Введите расход бензина на 100 км: '))\n",
    "km = int(input('Сколько километров вы хотите проехать? '))\n",
    "b_km = b / 100\n",
    "l = km * b_km\n",
    "print('Вам потребуется', l, 'л бензина')"
   ]
  }
 ],
 "metadata": {
  "kernelspec": {
   "display_name": "Python 3",
   "language": "python",
   "name": "python3"
  },
  "language_info": {
   "codemirror_mode": {
    "name": "ipython",
    "version": 3
   },
   "file_extension": ".py",
   "mimetype": "text/x-python",
   "name": "python",
   "nbconvert_exporter": "python",
   "pygments_lexer": "ipython3",
   "version": "3.6.4"
  }
 },
 "nbformat": 4,
 "nbformat_minor": 2
}
