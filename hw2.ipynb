{
 "cells": [
  {
   "cell_type": "markdown",
   "metadata": {},
   "source": [
    "## Задача 1. Максимум из двух чисел.\n",
    "На вход подается 2 числа.\n",
    "Программа должна вывести наибольшее из них."
   ]
  },
  {
   "cell_type": "code",
   "execution_count": 13,
   "metadata": {
    "scrolled": true
   },
   "outputs": [
    {
     "name": "stdout",
     "output_type": "stream",
     "text": [
      "Число 1: 4\n",
      "Число 2: 7\n",
      "7\n"
     ]
    }
   ],
   "source": [
    "a = int(input('Число 1: '))\n",
    "b = int(input('Число 2: '))\n",
    "if a > b:\n",
    "    print(a)\n",
    "else:\n",
    "    print(b)"
   ]
  },
  {
   "cell_type": "code",
   "execution_count": 14,
   "metadata": {},
   "outputs": [
    {
     "name": "stdout",
     "output_type": "stream",
     "text": [
      "Число 1: 4\n",
      "Число 2: 7\n",
      "7\n"
     ]
    }
   ],
   "source": [
    "a = int(input('Число 1: '))\n",
    "b = int(input('Число 2: '))\n",
    "if a > b:\n",
    "    print(a)\n",
    "else:\n",
    "    print(b)"
   ]
  },
  {
   "cell_type": "markdown",
   "metadata": {},
   "source": [
    "## Задача 2. Тестирующая система.\n",
    "В школе решили принимать решения задач по программированию при помощи тестирующей системы.<br>\n",
    "Системе на вход подается верный ответ и ответ ученика.\n",
    "Ситема выдает 'Верно!', если ученик правильно ответил на вопрос, и 'Не верно!', если он ошибся.\n",
    "Вас попросили помочь с реализацией этой системы. Напишите программу, которая выполняет перечисленные выше действия."
   ]
  },
  {
   "cell_type": "code",
   "execution_count": 15,
   "metadata": {},
   "outputs": [
    {
     "name": "stdout",
     "output_type": "stream",
     "text": [
      "Верный ответ: абв\n",
      "Ответ ученика: вба\n",
      "Неверно!\n"
     ]
    }
   ],
   "source": [
    "a = input('Верный ответ: ')\n",
    "b = input('Ответ ученика: ')\n",
    "if a == b:\n",
    "    print('Верно!')\n",
    "else:\n",
    "    print('Неверно!')"
   ]
  },
  {
   "cell_type": "markdown",
   "metadata": {},
   "source": [
    "## Задача 3. Знак числа.\n",
    "В математике существует функция sign(x), которая фозвращает знак числа x:<br>\n",
    "-1 - если x < 0,<br>\n",
    " 0 - если x == 0 и<br>\n",
    " 1 - если x > 0.<br>\n",
    "Написать программу, которая бы определяла знак числа."
   ]
  },
  {
   "cell_type": "code",
   "execution_count": 22,
   "metadata": {},
   "outputs": [
    {
     "name": "stdout",
     "output_type": "stream",
     "text": [
      "Введите число: 3\n",
      "1\n"
     ]
    }
   ],
   "source": [
    "x = int(input('Введите число: '))\n",
    "\n",
    "if x < 0:\n",
    "    print(-1)\n",
    "if x == 0:\n",
    "    print(0)\n",
    "if x > 0:\n",
    "    print(1)"
   ]
  },
  {
   "cell_type": "code",
   "execution_count": 7,
   "metadata": {},
   "outputs": [
    {
     "name": "stdout",
     "output_type": "stream",
     "text": [
      "25\n",
      "1\n"
     ]
    }
   ],
   "source": [
    "x = int(input())\n",
    "\n",
    "if x < 0:\n",
    "    print(-1)\n",
    "elif x == 0:\n",
    "    print(0)\n",
    "else:\n",
    "    print(1)"
   ]
  },
  {
   "cell_type": "markdown",
   "metadata": {},
   "source": [
    "## Задача 4. Калькулятор.\n",
    "Попробуем написать простой калькулятор, который умеет складывать, вычитать, делить и умножать.<br>\n",
    "На вход подается 2 числа и знак желаемой операции (+, -, /, *).\n",
    "Программа выполняет требуемое действие и выдает ответ."
   ]
  },
  {
   "cell_type": "code",
   "execution_count": 20,
   "metadata": {},
   "outputs": [
    {
     "name": "stdout",
     "output_type": "stream",
     "text": [
      "Число 1: 4\n",
      "Число 2: 5\n",
      "Операция: *\n",
      "20\n"
     ]
    }
   ],
   "source": [
    "a = int(input('Число 1: '))\n",
    "b = int(input('Число 2: '))\n",
    "op = input('Операция: ')\n",
    "if op == '+':\n",
    "    print(a + b)\n",
    "elif op == '-':\n",
    "    print(a - b)\n",
    "elif op == '/':\n",
    "    print(a / b)\n",
    "elif op == '*':\n",
    "    print(a * b)\n",
    "else:\n",
    "    print('Операция не поддерживается')"
   ]
  },
  {
   "cell_type": "markdown",
   "metadata": {},
   "source": [
    "## Задача 5*\n",
    "На вход подается 3 числа.\n",
    "Программа должна вывести наибольшее из них."
   ]
  },
  {
   "cell_type": "code",
   "execution_count": 21,
   "metadata": {},
   "outputs": [
    {
     "name": "stdout",
     "output_type": "stream",
     "text": [
      "Число 1: 3\n",
      "Число 2: 1\n",
      "Число 3: 5\n",
      "5\n"
     ]
    }
   ],
   "source": [
    "a = int(input('Число 1: '))\n",
    "b = int(input('Число 2: '))\n",
    "c = int(input('Число 3: '))\n",
    "\n",
    "max2 = 0\n",
    "if a > b:\n",
    "    max2 = a\n",
    "if b > a:\n",
    "    max2 = b\n",
    "\n",
    "if c > max2:\n",
    "    print(c)\n",
    "else:\n",
    "    print(max2)"
   ]
  }
 ],
 "metadata": {
  "kernelspec": {
   "display_name": "Python 3",
   "language": "python",
   "name": "python3"
  },
  "language_info": {
   "codemirror_mode": {
    "name": "ipython",
    "version": 3
   },
   "file_extension": ".py",
   "mimetype": "text/x-python",
   "name": "python",
   "nbconvert_exporter": "python",
   "pygments_lexer": "ipython3",
   "version": "3.6.4"
  }
 },
 "nbformat": 4,
 "nbformat_minor": 2
}
